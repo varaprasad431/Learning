{
  "nbformat": 4,
  "nbformat_minor": 0,
  "metadata": {
    "colab": {
      "provenance": [],
      "authorship_tag": "ABX9TyO0nWSiDRnP+2Sd7WLJB+9r",
      "include_colab_link": true
    },
    "kernelspec": {
      "name": "python3",
      "display_name": "Python 3"
    },
    "language_info": {
      "name": "python"
    }
  },
  "cells": [
    {
      "cell_type": "markdown",
      "metadata": {
        "id": "view-in-github",
        "colab_type": "text"
      },
      "source": [
        "<a href=\"https://colab.research.google.com/github/varaprasad431/Learning/blob/main/pythonbasic.ipynb\" target=\"_parent\"><img src=\"https://colab.research.google.com/assets/colab-badge.svg\" alt=\"Open In Colab\"/></a>"
      ]
    },
    {
      "cell_type": "code",
      "execution_count": null,
      "metadata": {
        "id": "iXQYSUWuaxi2"
      },
      "outputs": [],
      "source": []
    },
    {
      "cell_type": "markdown",
      "source": [
        "Variable\n",
        "\n",
        "when there is container which is used for storing data values is called variable\n",
        "also called identifier.\n",
        "\n",
        "varaiables are Case-sensitive and it will created when you want to assign a value to it.\n",
        "\n",
        "type() return the type of variable . assigna multiple variables in single command"
      ],
      "metadata": {
        "id": "S-xsxxyba1Vn"
      }
    },
    {
      "cell_type": "code",
      "source": [
        "var=\"this is example for assigning a value\"\n",
        "print(type(var))\n",
        "x=15\n",
        "print(x)\n",
        "print(type(x))"
      ],
      "metadata": {
        "colab": {
          "base_uri": "https://localhost:8080/"
        },
        "id": "FolFE3CTa2wd",
        "outputId": "3ec28595-26dd-46bf-c73d-5552e3afd9ae"
      },
      "execution_count": null,
      "outputs": [
        {
          "output_type": "stream",
          "name": "stdout",
          "text": [
            "<class 'str'>\n",
            "15\n",
            "<class 'int'>\n"
          ]
        }
      ]
    },
    {
      "cell_type": "markdown",
      "source": [
        "**Data** **Types**\n",
        "\n",
        "Variable can store data in diffrent types they are\n",
        "1.string\n",
        "2.int -3.float-4.complex\n",
        "5.Boolean\n",
        "6.list\n",
        "7.tuple\n",
        "8.set\n",
        "9.dictonary\n"
      ],
      "metadata": {
        "id": "aWcQoR-KcATW"
      }
    },
    {
      "cell_type": "code",
      "source": [
        "#int :- storing integer values is called integer\n",
        "x=2\n",
        "y=9\n",
        "print(type(x&y))"
      ],
      "metadata": {
        "colab": {
          "base_uri": "https://localhost:8080/"
        },
        "id": "XnBt6wuUboiw",
        "outputId": "67a1f327-1cb9-4311-9bb7-aa3c108437fb"
      },
      "execution_count": null,
      "outputs": [
        {
          "output_type": "stream",
          "name": "stdout",
          "text": [
            "<class 'int'>\n"
          ]
        }
      ]
    },
    {
      "cell_type": "code",
      "source": [
        "#float :- storing decimal values is called float\n",
        "x=9.90\n",
        "z=4.66\n",
        "print(type(x))"
      ],
      "metadata": {
        "colab": {
          "base_uri": "https://localhost:8080/"
        },
        "id": "rHb3MLlwc7to",
        "outputId": "9361947f-c25b-4d6c-9935-3215b92581c2"
      },
      "execution_count": null,
      "outputs": [
        {
          "output_type": "stream",
          "name": "stdout",
          "text": [
            "<class 'float'>\n"
          ]
        }
      ]
    },
    {
      "cell_type": "code",
      "source": [
        "#complex :- it containes two values the first value containes real part of complex number and second number containes imaginary part of complex number\n",
        "x=2+5j\n",
        "print(type(x))"
      ],
      "metadata": {
        "colab": {
          "base_uri": "https://localhost:8080/"
        },
        "id": "4PvOd0AadB-K",
        "outputId": "c854ba1e-411a-4d7d-8279-4d269500ce17"
      },
      "execution_count": null,
      "outputs": [
        {
          "output_type": "stream",
          "name": "stdout",
          "text": [
            "<class 'complex'>\n"
          ]
        }
      ]
    },
    {
      "cell_type": "code",
      "source": [
        "#string :- storing sequence of charachter or elements with in the single ' or double '' or multi ''' quotes then it is called string.\n",
        "a=\"prasad\"\n",
        "b='vara'\n",
        "c=\"\"\"katteboina\"\"\"\n",
        "d=b+a+c\n",
        "print(d)\n",
        "print(type(d))"
      ],
      "metadata": {
        "colab": {
          "base_uri": "https://localhost:8080/"
        },
        "id": "OdPJPxRndvxi",
        "outputId": "7b32e248-3d30-4b36-d1de-312be18c582f"
      },
      "execution_count": null,
      "outputs": [
        {
          "output_type": "stream",
          "name": "stdout",
          "text": [
            "varaprasadkatteboina\n",
            "<class 'str'>\n"
          ]
        }
      ]
    },
    {
      "cell_type": "code",
      "source": [
        "#slicing :- retuen range of character by slicing using index values\n",
        "a=\"prasad katteboina Devops enginaeer\"\n",
        "print(len(a))\n",
        "print(type(a))\n",
        "print(a[6:])\n",
        "print(a.upper())\n",
        "print(a.lower())\n",
        "print(a.strip())\n",
        "print(a.split())"
      ],
      "metadata": {
        "colab": {
          "base_uri": "https://localhost:8080/"
        },
        "id": "aEEzoFhYeI0t",
        "outputId": "a95b4a05-5a80-480c-ab65-c061eae70467"
      },
      "execution_count": null,
      "outputs": [
        {
          "output_type": "stream",
          "name": "stdout",
          "text": [
            "34\n",
            "<class 'str'>\n",
            " katteboina Devops enginaeer\n",
            "PRASAD KATTEBOINA DEVOPS ENGINAEER\n",
            "prasad katteboina devops enginaeer\n",
            "prasad katteboina Devops enginaeer\n",
            "['prasad', 'katteboina', 'Devops', 'enginaeer']\n"
          ]
        }
      ]
    },
    {
      "cell_type": "code",
      "source": [
        "#list :- storing multiple values in a single variables with diffrent types then it is called lists\n",
        "#it is in order and changeble(mutable)    Allow duplicates\n",
        "#it is used [] or list() (list function)\n",
        "lst=[123,\"prasad\",5.6]\n",
        "print(type(lst))\n",
        "print(lst)\n",
        "\n",
        "#accesing items and changing values\n",
        "frusits = [\"apple\",\"bammam\"]"
      ],
      "metadata": {
        "colab": {
          "base_uri": "https://localhost:8080/"
        },
        "id": "9mcPUiHwf-F0",
        "outputId": "5daa543e-06dd-435e-df29-9712d7d4c2da"
      },
      "execution_count": null,
      "outputs": [
        {
          "output_type": "stream",
          "name": "stdout",
          "text": [
            "<class 'list'>\n",
            "[123, 'prasad', 5.6]\n"
          ]
        }
      ]
    },
    {
      "cell_type": "code",
      "source": [],
      "metadata": {
        "id": "Dym-VjdMhQ-E"
      },
      "execution_count": null,
      "outputs": []
    }
  ]
}